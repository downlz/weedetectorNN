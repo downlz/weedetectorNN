{
  "nbformat": 4,
  "nbformat_minor": 0,
  "metadata": {
    "colab": {
      "name": "Neural Network Demo.ipynb",
      "provenance": [],
      "collapsed_sections": []
    },
    "kernelspec": {
      "name": "python3",
      "display_name": "Python 3"
    }
  },
  "cells": [
    {
      "cell_type": "code",
      "metadata": {
        "id": "D5lUNKlx-ljU",
        "colab_type": "code",
        "colab": {}
      },
      "source": [
        "import numpy"
      ],
      "execution_count": 0,
      "outputs": []
    },
    {
      "cell_type": "code",
      "metadata": {
        "id": "SN0BeiND-tu2",
        "colab_type": "code",
        "colab": {}
      },
      "source": [
        "# neural network class definition\n",
        "class neuralNetwork:\n",
        "        \n",
        "\n",
        "    def __init__(self, inputnodes, hiddennodes, outputnodes, learningrate):\n",
        "\n",
        "        self.inodes = inputnodes\n",
        "        self.hnodes = hiddennodes\n",
        "        self.onodes = outputnodes\n",
        "        \n",
        "        self.w1 = numpy.random.normal(0.0, pow(self.inodes, -0.5), (self.hnodes, self.inodes))\n",
        "        self.w2 = numpy.random.normal(0.0, pow(self.hnodes, -0.5), (self.onodes, self.hnodes))\n",
        "\n",
        "        # learning rate\n",
        "        self.lr = learningrate\n",
        "        \n",
        "        # activation function is the sigmoid function\n",
        "        self.activation_function = lambda x: 1 / (1 + math.exp(-x))\n",
        "        \n",
        "        pass\n",
        "\n",
        "    \n",
        "    # train the neural network\n",
        "    def train(self, inputs_list, targets_list):\n",
        "        inputs = numpy.array(inputs_list, ndmin=2).T\n",
        "        targets = numpy.array(targets_list, ndmin=2).T\n",
        "        \n",
        "        hidden_inputs = numpy.dot(self.w1, inputs)\n",
        "        hidden_outputs = self.activation_function(hidden_inputs)\n",
        "        \n",
        "        final_inputs = numpy.dot(self.w2, hidden_outputs)\n",
        "        final_outputs = self.activation_function(final_inputs)\n",
        "        \n",
        "\n",
        "        output_errors = targets - final_outputs\n",
        "\n",
        "        hidden_errors = numpy.dot(self.w2.T, output_errors) \n",
        "        \n",
        "        self.w2 += self.lr * numpy.dot((output_errors * final_outputs * (1.0 - final_outputs)), numpy.transpose(hidden_outputs))\n",
        "        self.w1 += self.lr * numpy.dot((hidden_errors * hidden_outputs * (1.0 - hidden_outputs)), numpy.transpose(inputs))\n",
        "        \n",
        "        pass\n"
      ],
      "execution_count": 0,
      "outputs": []
    },
    {
      "cell_type": "code",
      "metadata": {
        "id": "EcXs1KyJ-7bc",
        "colab_type": "code",
        "colab": {}
      },
      "source": [
        "input_nodes = 3\n",
        "hidden_nodes = 3\n",
        "output_nodes = 3\n",
        "\n",
        "learning_rate = 0.3\n",
        "\n",
        "# create instance of neural network\n",
        "n = neuralNetwork(input_nodes,hidden_nodes,output_nodes, learning_rate)"
      ],
      "execution_count": 0,
      "outputs": []
    }
  ]
}